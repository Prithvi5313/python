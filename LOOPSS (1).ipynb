{
 "cells": [
  {
   "cell_type": "code",
   "execution_count": null,
   "id": "7dfd51bb",
   "metadata": {},
   "outputs": [],
   "source": [
    "#sum of digits\n",
    "no=int(input('enter a number '))\n",
    "sum=0\n",
    "temp=no\n",
    "while temp!=0:\n",
    "    dig=temp%10\n",
    "    temp=temp//10\n",
    "    sum=sum+dig\n",
    "print('sum= ',sum)\n"
   ]
  },
  {
   "cell_type": "code",
   "execution_count": null,
   "id": "1095ac20",
   "metadata": {},
   "outputs": [],
   "source": [
    "#binary to decimal\n",
    "n1=int(input('enter a binary number '))\n",
    "temp=n1\n",
    "sum=0\n",
    "i=0\n",
    "while(temp!=0):\n",
    "    dig=temp%10\n",
    "    sum=sum+dig*2**i\n",
    "    temp=temp//10\n",
    "    i+=1\n",
    "print('decimal number is = ',sum)\n",
    "    \n",
    "    \n"
   ]
  },
  {
   "cell_type": "code",
   "execution_count": null,
   "id": "70c1adad",
   "metadata": {},
   "outputs": [],
   "source": [
    "no=int(input('enter a number '))\n",
    "list1=[]\n",
    "for x in range (1,no) :\n",
    "    n1=int(input(\"enter a number :\"))\n",
    "    list1.append(n1)\n",
    "print(\"list =\",list1)    \n",
    "print(\"maximum of list =\",max(list1))\n",
    "print(\"minimum of numbers =\",min(list1))\n",
    "s1=sum(list1)\n",
    "print(\"sum of the numbers =\",s1)\n",
    "print(\"average of numbers =\",sum(list1)/len(list1))"
   ]
  },
  {
   "cell_type": "markdown",
   "id": "0920a67b",
   "metadata": {},
   "source": []
  },
  {
   "cell_type": "code",
   "execution_count": null,
   "id": "b3e8407e",
   "metadata": {},
   "outputs": [],
   "source": [
    "for i in range (1,4):\n",
    "    for j in range(1,4):\n",
    "        for k in range(1,4):\n",
    "            if i==j or j==k or k==i:\n",
    "                continue\n",
    "            else:\n",
    "                print(i,\" \",j,\" \",k)"
   ]
  },
  {
   "cell_type": "code",
   "execution_count": 3,
   "id": "d2d3262e",
   "metadata": {},
   "outputs": [
    {
     "name": "stdout",
     "output_type": "stream",
     "text": [
      "enter a number =8\n",
      "number is positive\n",
      "1000 \n",
      "enter a number =-9\n",
      "enter a number =8\n",
      "number is positive\n",
      "1000 \n",
      "enter a number =999\n"
     ]
    }
   ],
   "source": [
    "# 6\n",
    "while(1):\n",
    "    n=int(input(\"enter a number =\"))\n",
    "    if(n==999):\n",
    "        break\n",
    "    if(n<0):\n",
    "        continue\n",
    "    rev=\" \"\n",
    "    while(n>0):\n",
    "        r=n%2\n",
    "        rev=rev+str(r)\n",
    "        n=n//2\n",
    "    rev=rev[::-1]\n",
    "    print('number is positive')\n",
    "    print(rev)\n",
    "    "
   ]
  },
  {
   "cell_type": "code",
   "execution_count": 6,
   "id": "afbb199f",
   "metadata": {},
   "outputs": [
    {
     "name": "stdout",
     "output_type": "stream",
     "text": [
      "enter a number  =4\n",
      "even\n",
      "enter a number  =3\n",
      "odd\n",
      "enter a number  =7\n",
      "odd\n",
      "enter a number  =1\n",
      "odd\n",
      "enter a number  =999\n",
      "odd count = 3\n",
      "even count = 1\n"
     ]
    }
   ],
   "source": [
    "even=0\n",
    "odd=0\n",
    "while(1):\n",
    "    n=int(input(\"enter a number  =\"))\n",
    "    if(n==999):\n",
    "        break\n",
    "    if(n%2==0):\n",
    "            print(\"even\")\n",
    "            even+=1\n",
    "    else:\n",
    "            print(\"odd\")\n",
    "            odd+=1\n",
    "print(\"odd count =\",odd)\n",
    "print(\"even count =\",even )\n",
    "    \n",
    "    "
   ]
  },
  {
   "cell_type": "code",
   "execution_count": 17,
   "id": "cae4bac6",
   "metadata": {},
   "outputs": [
    {
     "name": "stdout",
     "output_type": "stream",
     "text": [
      "enter last number5\n",
      "1,8,27,64,125,\n",
      "\n"
     ]
    }
   ],
   "source": [
    "n=int(input(\"enter last number\"))\n",
    "for x in range (1,n+1):\n",
    "    print(x**3,end=\",\")\n",
    "print(\"\\n\")\n"
   ]
  },
  {
   "cell_type": "code",
   "execution_count": 1,
   "id": "9d773768",
   "metadata": {},
   "outputs": [
    {
     "name": "stdout",
     "output_type": "stream",
     "text": [
      "enter last number8\n",
      "-5,-2,1,4,7,"
     ]
    }
   ],
   "source": [
    "n=int(input(\"enter last number\"))\n",
    "for i in range (-5,n,3):\n",
    "    print(i,end=\",\")"
   ]
  },
  {
   "cell_type": "code",
   "execution_count": 36,
   "id": "4c76997b",
   "metadata": {},
   "outputs": [
    {
     "name": "stdout",
     "output_type": "stream",
     "text": [
      "enter last number15\n",
      "-2,-4,-6,-8,-10,-12,-14,"
     ]
    }
   ],
   "source": [
    "n=int(input(\"enter last number\"))\n",
    "for x in range (-2,-n,-2):\n",
    "    print(x,end=\",\")"
   ]
  },
  {
   "cell_type": "code",
   "execution_count": 2,
   "id": "f11e9d8a",
   "metadata": {},
   "outputs": [
    {
     "name": "stdout",
     "output_type": "stream",
     "text": [
      "enter last number7\n",
      "1,4,"
     ]
    }
   ],
   "source": [
    "n=int(input(\"enter last number\"))\n",
    "for x in range(1,n,3):\n",
    "    print(x,end=\",\")\n"
   ]
  },
  {
   "cell_type": "code",
   "execution_count": 9,
   "id": "0c0cb373",
   "metadata": {},
   "outputs": [
    {
     "name": "stdout",
     "output_type": "stream",
     "text": [
      "enter a number576\n",
      "enter a number890\n",
      "enter a number67\n",
      "enter a number999\n",
      "largest number= 890\n"
     ]
    }
   ],
   "source": [
    "temp=0\n",
    "while(1):\n",
    "    n=int(input(\"enter a number\"))\n",
    "    if(n==999):\n",
    "        break\n",
    "    if n>temp:\n",
    "        temp=n\n",
    "print(\"largest number=\",temp)\n"
   ]
  },
  {
   "cell_type": "code",
   "execution_count": 1,
   "id": "99e71788",
   "metadata": {},
   "outputs": [
    {
     "name": "stdout",
     "output_type": "stream",
     "text": [
      "pass : h\n",
      "pass : e\n",
      "pass : l\n",
      "pass : l\n",
      "pass : o\n",
      "done\n"
     ]
    }
   ],
   "source": [
    "for letter in  \"hello\":\n",
    "    pass\n",
    "    print(\"pass :\",letter)\n",
    "print(\"done\")\n"
   ]
  },
  {
   "cell_type": "code",
   "execution_count": null,
   "id": "3948d328",
   "metadata": {},
   "outputs": [],
   "source": []
  },
  {
   "cell_type": "code",
   "execution_count": 4,
   "id": "7749b8ed",
   "metadata": {},
   "outputs": [
    {
     "name": "stdout",
     "output_type": "stream",
     "text": [
      "enter name of the customer = a\n",
      "name of customer is: a\n",
      "enter name of the customer = b\n",
      "name of customer is: b\n",
      "enter name of the customer = c\n",
      "name of customer is: c\n",
      "enter name of the customer = d\n",
      "name of customer is: d\n",
      "enter name of the customer = e\n",
      "name of customer is: e\n",
      "enter name of the customer = f\n",
      "name of customer is: f\n",
      "enter name of the customer = g\n",
      "name of customer is: g\n",
      "enter name of the customer = h\n",
      "name of customer is: h\n",
      "enter name of the customer = i\n",
      "name of customer is: i\n",
      "enter name of the customer =j\n",
      "name of customer is: j\n"
     ]
    }
   ],
   "source": [
    "s1=input(\"enter name of the customer = \")\n",
    "print(\"name of customer is:\",s1)\n",
    "s2=input(\"enter name of the customer = \")\n",
    "print(\"name of customer is:\",s2)\n",
    "s3=input(\"enter name of the customer = \")\n",
    "print(\"name of customer is:\",s3)\n",
    "s4=input(\"enter name of the customer = \")\n",
    "print(\"name of customer is:\",s4)\n",
    "s5=input(\"enter name of the customer = \")\n",
    "print(\"name of customer is:\",s5)\n",
    "s6=input(\"enter name of the customer = \")\n",
    "print(\"name of customer is:\",s6)\n",
    "s7=input(\"enter name of the customer = \")\n",
    "print(\"name of customer is:\",s7)\n",
    "s8=input(\"enter name of the customer = \")\n",
    "print(\"name of customer is:\",s8)\n",
    "s9=input(\"enter name of the customer = \")\n",
    "print(\"name of customer is:\",s9)\n",
    "s10=input(\"enter name of the customer =\")\n",
    "print(\"name of customer is:\",s10)\n",
    "\n",
    "\n",
    "\n",
    "\n",
    "\n",
    "\n",
    "\n",
    "\n",
    "\n"
   ]
  },
  {
   "cell_type": "code",
   "execution_count": 2,
   "id": "25e9e8e0",
   "metadata": {},
   "outputs": [
    {
     "name": "stdout",
     "output_type": "stream",
     "text": [
      "enter name of customer:a\n",
      "name of customer is: a\n",
      "enter name of customer:b\n",
      "name of customer is: b\n",
      "enter name of customer:c\n",
      "name of customer is: c\n",
      "enter name of customer:d\n",
      "name of customer is: d\n",
      "enter name of customer:e\n",
      "name of customer is: e\n",
      "enter name of customer:f\n",
      "name of customer is: f\n",
      "enter name of customer:g\n",
      "name of customer is: g\n",
      "enter name of customer:h\n",
      "name of customer is: h\n",
      "enter name of customer:i\n",
      "name of customer is: i\n",
      "enter name of customer:j\n",
      "name of customer is: j\n"
     ]
    }
   ],
   "source": [
    "for i in range (0,10):\n",
    "    s=input(\"enter name of customer:\")\n",
    "    print(\"name of customer is:\",s)\n"
   ]
  },
  {
   "cell_type": "code",
   "execution_count": null,
   "id": "3f43ad4d",
   "metadata": {},
   "outputs": [],
   "source": []
  }
 ],
 "metadata": {
  "kernelspec": {
   "display_name": "Python 3 (ipykernel)",
   "language": "python",
   "name": "python3"
  },
  "language_info": {
   "codemirror_mode": {
    "name": "ipython",
    "version": 3
   },
   "file_extension": ".py",
   "mimetype": "text/x-python",
   "name": "python",
   "nbconvert_exporter": "python",
   "pygments_lexer": "ipython3",
   "version": "3.9.7"
  }
 },
 "nbformat": 4,
 "nbformat_minor": 5
}
