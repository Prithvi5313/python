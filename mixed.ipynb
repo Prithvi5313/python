{
 "cells": [
  {
   "cell_type": "code",
   "execution_count": 6,
   "id": "1020765d",
   "metadata": {},
   "outputs": [
    {
     "name": "stdout",
     "output_type": "stream",
     "text": [
      "['1a', '2a', '3a', '4a']\n"
     ]
    }
   ],
   "source": [
    "str='1234'\n",
    "l1=[i+'a' for i in str]\n",
    "print(l1)\n",
    "    \n",
    "    "
   ]
  },
  {
   "cell_type": "code",
   "execution_count": 10,
   "id": "5f57c0bd",
   "metadata": {},
   "outputs": [
    {
     "name": "stdout",
     "output_type": "stream",
     "text": [
      "['ab', 'ac', 'ad', 'bb', 'bc', 'bd']\n"
     ]
    }
   ],
   "source": [
    "str1=\"ab\"\n",
    "str2=\"bcd\"\n",
    "l=[]\n",
    "for i in str:\n",
    "    l1=[i+j for j in str2 ]\n",
    "    l=l+l1\n",
    "print(l)"
   ]
  },
  {
   "cell_type": "code",
   "execution_count": 11,
   "id": "68d5bcfc",
   "metadata": {},
   "outputs": [
    {
     "name": "stdout",
     "output_type": "stream",
     "text": [
      "['ab', 'ac', 'ad', 'bb', 'bc', 'bd']\n"
     ]
    }
   ],
   "source": [
    "l1=[i+j for i in 'ab' for j in 'bcd']\n",
    "print(l1)"
   ]
  },
  {
   "cell_type": "code",
   "execution_count": null,
   "id": "2e369064",
   "metadata": {},
   "outputs": [],
   "source": []
  }
 ],
 "metadata": {
  "kernelspec": {
   "display_name": "Python 3 (ipykernel)",
   "language": "python",
   "name": "python3"
  },
  "language_info": {
   "codemirror_mode": {
    "name": "ipython",
    "version": 3
   },
   "file_extension": ".py",
   "mimetype": "text/x-python",
   "name": "python",
   "nbconvert_exporter": "python",
   "pygments_lexer": "ipython3",
   "version": "3.9.7"
  }
 },
 "nbformat": 4,
 "nbformat_minor": 5
}
