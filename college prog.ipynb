{
 "cells": [
  {
   "cell_type": "code",
   "execution_count": 4,
   "id": "2f439fdf",
   "metadata": {},
   "outputs": [
    {
     "name": "stdout",
     "output_type": "stream",
     "text": [
      "enter a number x = 6\n",
      "enter a number y = 2\n",
      "1. addition\n",
      "2. difference\n",
      "3. multiplication \n",
      "4. division\n",
      "5. raise to\n",
      "6. factorial\n",
      "enter 999 to stop\n",
      "enter your choice = 3\n",
      "multiplication =  12\n",
      "enter your choice = 5\n",
      "raise to =  36\n",
      "enter your choice = 999\n"
     ]
    }
   ],
   "source": [
    "x=int(input(\"enter a number x = \"))\n",
    "y=int(input(\"enter a number y = \"))\n",
    "print(\"1. addition\")\n",
    "print(\"2. difference\")\n",
    "print(\"3. multiplication \")\n",
    "print(\"4. division\")\n",
    "print(\"5. raise to\")\n",
    "print(\"6. factorial\")\n",
    "print(\"enter 999 to stop\")\n",
    "for j in range(0,6):\n",
    "    n=int(input(\"enter your choice = \"))\n",
    "    if n==1:\n",
    "        print(\"sum = \",x+y)\n",
    "    elif n==2:\n",
    "        print(\"difference = \",x-y)\n",
    "    elif n==3:\n",
    "        print(\"multiplication = \",x*y)\n",
    "    elif n==4:\n",
    "        print(\"division = \",x/y)\n",
    "    elif n==5:\n",
    "        print(\"raise to = \",x**y)\n",
    "    elif n==6:\n",
    "        temp=1\n",
    "        for i in range (1,x+1):\n",
    "            temp=temp*i\n",
    "        print(\"fatorial of \",x,\"= \",temp)\n",
    "    elif(n==999):\n",
    "        break\n",
    "    else:\n",
    "        print(\"invalid input\")\n"
   ]
  },
  {
   "cell_type": "code",
   "execution_count": 1,
   "id": "c091b90a",
   "metadata": {},
   "outputs": [
    {
     "name": "stdout",
     "output_type": "stream",
     "text": [
      "enter a number = 7\n",
      "enter number of times to run the program 0\n",
      "a.square root\n",
      "b.square\n",
      "c.cube\n",
      "d.check for prime\n",
      "e.factorial of number\n",
      "f.prime factor\n",
      "enter your choice e\n",
      "factorial =  5040\n",
      "a.square root\n",
      "b.square\n",
      "c.cube\n",
      "d.check for prime\n",
      "e.factorial of number\n",
      "f.prime factor\n",
      "enter your choice o\n"
     ]
    }
   ],
   "source": [
    "import math\n",
    "n=int(input(\"enter a number = \"))\n",
    "while True:\n",
    "    print(\"a.square root\\nb.square\\nc.cube\\nd.check for prime\\ne.factorial of number\\nf.prime factor\")\n",
    "    ch=input(\"enter your choice \")\n",
    "    if ch=='a':\n",
    "        print(\"square root = \",math.sqrt(n))\n",
    "    elif ch=='b':\n",
    "        print(\"square = \",n*n)\n",
    "    elif ch=='c':\n",
    "        print(\"cube = \",n**3)\n",
    "    elif ch=='d':\n",
    "        for i in range (2,n):\n",
    "            if n%i==0:\n",
    "                print(\"number is not prime \")\n",
    "                break\n",
    "            else:\n",
    "                print(\"number is prime\")\n",
    "                break\n",
    "    elif ch=='e':\n",
    "        t=1\n",
    "        for j in range (n,0,-1):\n",
    "            t=t*j\n",
    "        print(\"factorial = \",t)\n",
    "    elif(ch=='n' and ch=='N'):\n",
    "        break\n",
    "    elif ch=='f':\n",
    "        i=2\n",
    "        factors=[]\n",
    "        while i*i<=n:\n",
    "            if n % 1:\n",
    "                i=i+1\n",
    "            else:\n",
    "                n//=i\n",
    "                factors.append(i)\n",
    "        if n>1:\n",
    "            factors.append(n)\n",
    "        print(\"prime factors \",set(factors))\n",
    "    \n",
    "    else:\n",
    "        break"
   ]
  },
  {
   "cell_type": "code",
   "execution_count": 10,
   "id": "c47633c9",
   "metadata": {},
   "outputs": [
    {
     "name": "stdout",
     "output_type": "stream",
     "text": [
      "total employee  3\n",
      "males =  2 females = 1\n",
      "\n",
      "employee with salary>10000 are : \n",
      "ajay\n",
      "manisha\n",
      "prithvi\n",
      "\n",
      "asst. managers :\n",
      "ajay\n",
      "prithvi\n"
     ]
    }
   ],
   "source": [
    "class Employee:\n",
    "    count=0\n",
    "    def __init__(self,name,des,gen,doj,sal):\n",
    "        self.name=name\n",
    "        self.des=des\n",
    "        self.gen=gen\n",
    "        self.doj=doj\n",
    "        self.sal=sal\n",
    "        Employee.count+=1\n",
    "    def total(self):\n",
    "        print(\"total employee \",Employee.count)\n",
    "    def countGender(self,obj):\n",
    "        male=female=0\n",
    "        for x in obj:\n",
    "            if x.gen=='M':\n",
    "                male+=1\n",
    "            else:\n",
    "                female+=1\n",
    "        print(\"males = \",male,\"females =\",female)\n",
    "    def countsalary(self,obj):\n",
    "        print(\"\\nemployee with salary>10000 are : \")\n",
    "        for x in obj:\n",
    "            if x.sal>10000:\n",
    "                print(x.name)\n",
    "    def countdesg(self,obj):\n",
    "        print(\"\\nasst. managers :\")\n",
    "        for x in obj:\n",
    "            if x.des=='asst. manager':\n",
    "                print(x.name)\n",
    "obj1=Employee('ajay','asst. manager','M','12-07-2012',340000)\n",
    "obj2=Employee('manisha','manager','F','13-07-2012',350000)\n",
    "obj3=Employee('prithvi','asst. manager','M','14-07-2012',340000)\n",
    "all=[]\n",
    "all.extend([obj1,obj2,obj3])\n",
    "obj1.total()\n",
    "obj1.countGender(all)\n",
    "obj1.countsalary(all)\n",
    "obj1.countdesg(all)\n",
    "    "
   ]
  },
  {
   "cell_type": "code",
   "execution_count": 2,
   "id": "c1632e3a",
   "metadata": {},
   "outputs": [
    {
     "name": "stdout",
     "output_type": "stream",
     "text": [
      " Basic Pay: 30000\n",
      "Salary payable after deductions =  33810.0\n"
     ]
    }
   ],
   "source": [
    "BP = int(input(\" Basic Pay: \"))\n",
    "HRA = BP * (10/100)\n",
    "TA = BP * (5/100) \n",
    "Tot_Sal = BP+HRA+TA\n",
    "PT = Tot_Sal * (2/100)\n",
    "Pay_Sal = Tot_Sal-PT\n",
    "print(\"Salary payable after deductions = \",Pay_Sal)\n"
   ]
  },
  {
   "cell_type": "code",
   "execution_count": 1,
   "id": "f2db6596",
   "metadata": {},
   "outputs": [
    {
     "name": "stdout",
     "output_type": "stream",
     "text": [
      "Enter a string: abcd\n",
      "1.Length\n",
      "2.Reverse\n",
      "3.Equality\tof\ttwo\tstrings\n",
      "4.Check Palindrome\n",
      "5.Check substring\n",
      "Enter your choice: 1\n",
      "Length of string is  4\n",
      "1.Length\n",
      "2.Reverse\n",
      "3.Equality\tof\ttwo\tstrings\n",
      "4.Check Palindrome\n",
      "5.Check substring\n",
      "Enter your choice: 3\n",
      "Enter string to compare: 4\n",
      "not equal\n",
      "1.Length\n",
      "2.Reverse\n",
      "3.Equality\tof\ttwo\tstrings\n",
      "4.Check Palindrome\n",
      "5.Check substring\n",
      "Enter your choice: 9\n",
      "Invalid Choice\n"
     ]
    }
   ],
   "source": [
    "def main():\n",
    "    s = input(\"Enter a string: \") \n",
    "    while(1):\n",
    "        print(\"1.Length\\n2.Reverse\\n3.Equality\tof\ttwo\tstrings\\n4.Check Palindrome\\n5.Check substring\")\n",
    "        choice = int(input(\"Enter your choice: \")) \n",
    "        if choice == 1:\n",
    "            print('Length of string is ',len(s)) \n",
    "        elif choice == 2:\n",
    "            print('Reverse string is ',s[::-1]) \n",
    "        elif choice == 3:\n",
    "            s2 = input(\"Enter string to compare: \") \n",
    "            if s == s2:\n",
    "                print(\"Equal\")\n",
    "            else:\n",
    "                print(\"not equal\")\n",
    "        elif choice == 4:\n",
    "            if s == s[::-1]:\n",
    "                print(\"Palindrome\")\n",
    "            else:\n",
    "                print(\"Not palindome\")\n",
    "        elif choice == 5:\n",
    "            s2 = input(\"Enter substring to check: \") \n",
    "            if s2 in s:\n",
    "                print(\"Substring present\") \n",
    "            else:\n",
    "                print(\"Substring absent\")\n",
    "        else:\n",
    "            print(\"Invalid Choice\")\n",
    "            break\n",
    "        \n",
    "main()"
   ]
  },
  {
   "cell_type": "code",
   "execution_count": 2,
   "id": "3b93ffe7",
   "metadata": {},
   "outputs": [
    {
     "name": "stdout",
     "output_type": "stream",
     "text": [
      "Enter how many number u want to enter in list\n",
      "3\n",
      "Enter number to insert in list\n",
      "11\n",
      "22\n",
      "33\n",
      "List Element are:  [11, 22, 33]\n",
      "Maximum number is: 33\n",
      "Minimum number is: 11\n",
      "Sum of list Element: 66\n",
      "Average of list element is: 22.0\n"
     ]
    }
   ],
   "source": [
    "list1=[] \n",
    "avg=0 \n",
    "total=0\n",
    "print(\"Enter how many number u want to enter in list\") \n",
    "n=int(input())\n",
    "print(\"Enter number to insert in list\") \n",
    "for i in range(0,n):\n",
    "    x=int(input())\n",
    "    list1.append(x) \n",
    "print(\"List Element are: \",list1)\n",
    "print(\"Maximum number is:\",max(list1)) \n",
    "print(\"Minimum number is:\",min(list1)) \n",
    "for i in range(0,n):\n",
    "    total+=list1[i] \n",
    "    avg=total/n\n",
    "print(\"Sum of list Element:\",total) \n",
    "print(\"Average of list element is:\",avg) \n",
    "\n"
   ]
  },
  {
   "cell_type": "code",
   "execution_count": null,
   "id": "83bf8795",
   "metadata": {},
   "outputs": [],
   "source": []
  }
 ],
 "metadata": {
  "kernelspec": {
   "display_name": "Python 3 (ipykernel)",
   "language": "python",
   "name": "python3"
  },
  "language_info": {
   "codemirror_mode": {
    "name": "ipython",
    "version": 3
   },
   "file_extension": ".py",
   "mimetype": "text/x-python",
   "name": "python",
   "nbconvert_exporter": "python",
   "pygments_lexer": "ipython3",
   "version": "3.9.7"
  }
 },
 "nbformat": 4,
 "nbformat_minor": 5
}
