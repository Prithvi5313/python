{
 "cells": [
  {
   "cell_type": "code",
   "execution_count": null,
   "id": "2cd5433b",
   "metadata": {},
   "outputs": [],
   "source": [
    "from tkinter import *\n",
    "\n",
    "top=Tk()\n",
    "lb1=Label(top,text=\"welcome\")\n",
    "lb2=Label(top,text=\"to python\")\n",
    "lb1.pack()\n",
    "lb2.pack()\n",
    "top.mainloop()"
   ]
  },
  {
   "cell_type": "code",
   "execution_count": null,
   "id": "4d670b99",
   "metadata": {},
   "outputs": [],
   "source": [
    "from tkinter import *\n",
    "\n",
    "root = Tk()\n",
    "var=StringVar()\n",
    "label=Label(root,textvariable=var,relief=RAISED)\n",
    "var.set(\"hey hello\")\n",
    "label.pack()\n",
    "root.mainloop()"
   ]
  },
  {
   "cell_type": "code",
   "execution_count": 1,
   "id": "d558fe9a",
   "metadata": {},
   "outputs": [
    {
     "name": "stdout",
     "output_type": "stream",
     "text": [
      "hello,getting out of here\n"
     ]
    },
    {
     "ename": "SystemExit",
     "evalue": "",
     "output_type": "error",
     "traceback": [
      "An exception has occurred, use %tb to see the full traceback.\n",
      "\u001b[1;31mSystemExit\u001b[0m\n"
     ]
    },
    {
     "name": "stderr",
     "output_type": "stream",
     "text": [
      "C:\\ProgramData\\Anaconda3\\lib\\site-packages\\IPython\\core\\interactiveshell.py:3452: UserWarning: To exit: use 'exit', 'quit', or Ctrl-D.\n",
      "  warn(\"To exit: use 'exit', 'quit', or Ctrl-D.\", stacklevel=1)\n"
     ]
    }
   ],
   "source": [
    "from tkinter import *\n",
    "\n",
    "def quit():\n",
    "    print('hello,getting out of here')\n",
    "    import sys;sys.exit()\n",
    "    \n",
    "widget=Button(None,text='press me to quit',command=quit)\n",
    "widget.pack()\n",
    "widget.mainloop()"
   ]
  },
  {
   "cell_type": "code",
   "execution_count": null,
   "id": "ba1ec32a",
   "metadata": {},
   "outputs": [],
   "source": [
    "from tkinter import *\n",
    "def quit():\n",
    "    print('Hello, getting out of here')\n",
    "    import sys; sys.exit()\n",
    "widget=Button(None, text='Press me to quit',command=quit) \n",
    "widget.pack() \n",
    "widget.mainloop()\n"
   ]
  },
  {
   "cell_type": "code",
   "execution_count": 1,
   "id": "13d4c7de",
   "metadata": {},
   "outputs": [
    {
     "name": "stdout",
     "output_type": "stream",
     "text": [
      "146\n"
     ]
    }
   ],
   "source": [
    "from tkinter import *\n",
    "top=Tk()\n",
    "l1=Label(top,text=\"n1\")\n",
    "l1.pack()\n",
    "e1=Entry(top,bd=5)\n",
    "e1.pack()\n",
    "l2=Label(top,text=\"n2\")\n",
    "l2.pack()\n",
    "e2=Entry(top,bd=5)\n",
    "e2.pack()\n",
    "def change():\n",
    "    no1=int(e1.get())\n",
    "    no2=int(e2.get())\n",
    "    ans=no1+no2\n",
    "    print(ans)\n",
    "    l3=Label(top,text=ans)\n",
    "    l3.pack()\n",
    "    \n",
    "widget=Button(top,text=\"press me to add\",command=change)\n",
    "widget.pack()\n",
    "top.mainloop()"
   ]
  },
  {
   "cell_type": "code",
   "execution_count": 1,
   "id": "8ce0cce4",
   "metadata": {},
   "outputs": [
    {
     "name": "stdout",
     "output_type": "stream",
     "text": [
      "hello\n"
     ]
    }
   ],
   "source": [
    "print('hello')"
   ]
  },
  {
   "cell_type": "code",
   "execution_count": 2,
   "id": "3811a65b",
   "metadata": {},
   "outputs": [
    {
     "name": "stdout",
     "output_type": "stream",
     "text": [
      "hello\n"
     ]
    }
   ],
   "source": [
    "print(\"hello\")"
   ]
  },
  {
   "cell_type": "code",
   "execution_count": 1,
   "id": "171dd4f2",
   "metadata": {},
   "outputs": [
    {
     "name": "stdout",
     "output_type": "stream",
     "text": [
      "hello\n"
     ]
    }
   ],
   "source": [
    "print(\"hello\")"
   ]
  },
  {
   "cell_type": "code",
   "execution_count": 2,
   "id": "5064469f",
   "metadata": {},
   "outputs": [
    {
     "name": "stdout",
     "output_type": "stream",
     "text": [
      "2\n",
      "7\n",
      "9\n"
     ]
    }
   ],
   "source": [
    "a=int(input())\n",
    "b=int(input())\n",
    "print(a+b)"
   ]
  },
  {
   "cell_type": "code",
   "execution_count": null,
   "id": "56a72086",
   "metadata": {},
   "outputs": [],
   "source": []
  }
 ],
 "metadata": {
  "kernelspec": {
   "display_name": "Python 3 (ipykernel)",
   "language": "python",
   "name": "python3"
  },
  "language_info": {
   "codemirror_mode": {
    "name": "ipython",
    "version": 3
   },
   "file_extension": ".py",
   "mimetype": "text/x-python",
   "name": "python",
   "nbconvert_exporter": "python",
   "pygments_lexer": "ipython3",
   "version": "3.9.7"
  }
 },
 "nbformat": 4,
 "nbformat_minor": 5
}
