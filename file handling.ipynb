{
 "cells": [
  {
   "cell_type": "code",
   "execution_count": 39,
   "id": "c849ee9b",
   "metadata": {},
   "outputs": [
    {
     "name": "stdout",
     "output_type": "stream",
     "text": [
      "data written\n"
     ]
    }
   ],
   "source": [
    "file=open(\"f1.txt\",\"w\")\n",
    "file.write(\"hello all,I am prithviraj \\n hello\")\n",
    "file.close()\n",
    "print(\"data written\")"
   ]
  },
  {
   "cell_type": "code",
   "execution_count": 3,
   "id": "b7517718",
   "metadata": {},
   "outputs": [
    {
     "name": "stdout",
     "output_type": "stream",
     "text": [
      "['hello all,I am prithviraj']\n"
     ]
    }
   ],
   "source": [
    "file=open(\"f1.txt\",\"r\")\n",
    "str=file.readlines()\n",
    "print(str)\n",
    "file.close()\n",
    "\n"
   ]
  },
  {
   "cell_type": "code",
   "execution_count": 4,
   "id": "ddc1a640",
   "metadata": {},
   "outputs": [
    {
     "name": "stdout",
     "output_type": "stream",
     "text": [
      "hello all,\n"
     ]
    }
   ],
   "source": [
    "file=open(\"f1.txt\",\"r\")\n",
    "str=file.read(10)\n",
    "print(str)\n",
    "file.close()"
   ]
  },
  {
   "cell_type": "code",
   "execution_count": 41,
   "id": "cf627bee",
   "metadata": {},
   "outputs": [
    {
     "name": "stdout",
     "output_type": "stream",
     "text": [
      "enter file namef1.txt\n",
      "number of line = 1\n",
      "number of tabs = 0\n",
      "number of spaces = 5\n"
     ]
    }
   ],
   "source": [
    "f=input(\"enter file name\")\n",
    "with open(f,\"r\") as file:\n",
    "    text=file.read()\n",
    "    nol=1\n",
    "    nos=0\n",
    "    not1=0\n",
    "    for ch in text:\n",
    "        if (ch>='a' and ch<'z') or (ch>='A' and ch<='Z'):\n",
    "            if ch=='\\n':\n",
    "                nol+=1\n",
    "        if ch=='\\t':\n",
    "            not1+=1\n",
    "        if ch==' ':\n",
    "            nos+=1\n",
    "print(\"number of line =\",nol)\n",
    "print(\"number of tabs =\",not1)\n",
    "print(\"number of spaces =\",nos)"
   ]
  },
  {
   "cell_type": "code",
   "execution_count": 2,
   "id": "fe1e9150",
   "metadata": {},
   "outputs": [
    {
     "name": "stdout",
     "output_type": "stream",
     "text": [
      "enter file namef1.txt\n",
      "no o vowels = 9\n"
     ]
    }
   ],
   "source": [
    "f=input(\"enter file name\")\n",
    "i=0\n",
    "with open(f,\"r\") as file:\n",
    "    text=file.read()\n",
    "    for ch in text:\n",
    "        if ch in 'aeiou':\n",
    "            i=i+1\n",
    "print(\"no o vowels =\",i)"
   ]
  },
  {
   "cell_type": "code",
   "execution_count": 3,
   "id": "4fab54b3",
   "metadata": {},
   "outputs": [
    {
     "name": "stdout",
     "output_type": "stream",
     "text": [
      "enter file namef1.txt\n",
      "copied\n"
     ]
    }
   ],
   "source": [
    "f=input(\"enter file name\")\n",
    "with open(f,\"r\") as file:\n",
    "    with open(\"f2.txt\",\"w\") as filew:\n",
    "        text=file.read()\n",
    "        filew.write(text)\n",
    "print(\"copied\")\n",
    "    "
   ]
  },
  {
   "cell_type": "code",
   "execution_count": 9,
   "id": "02a8f124",
   "metadata": {},
   "outputs": [
    {
     "name": "stdout",
     "output_type": "stream",
     "text": [
      "enter file namef1.txt\n",
      "copied\n"
     ]
    }
   ],
   "source": [
    "f=input(\"enter file name\")\n",
    "with open(f,\"r\") as file:\n",
    "    with open(\"f3.txt\",\"w\") as filew:\n",
    "        while True:\n",
    "            text=file.readline()\n",
    "            if len(text)!=0:\n",
    "                if text[0]!='#':\n",
    "                    filew.write(text)\n",
    "            else:\n",
    "                break\n",
    "print(\"copied\")"
   ]
  },
  {
   "cell_type": "code",
   "execution_count": 1,
   "id": "8dae362e",
   "metadata": {},
   "outputs": [
    {
     "name": "stdout",
     "output_type": "stream",
     "text": [
      "position of file pointer before reading is :  0\n",
      "b'hello all,'\n",
      "position of file pointer after reading is : 10\n",
      "seeking 3 bytes from the currrent position of file pointer\n",
      "b'm prithviraj \\n hello\\n#welcome\\n#hello\\nhello'\n"
     ]
    }
   ],
   "source": [
    "file=open(\"f1.txt\",\"rb\")\n",
    "print(\"position of file pointer before reading is : \",file.tell())\n",
    "print(file.read(10))\n",
    "print(\"position of file pointer after reading is :\",file.tell())\n",
    "print(\"seeking 3 bytes from the currrent position of file pointer\")\n",
    "file.seek(3,1)\n",
    "print(file.read())\n",
    "file.close()"
   ]
  },
  {
   "cell_type": "code",
   "execution_count": 3,
   "id": "3edff8f0",
   "metadata": {},
   "outputs": [
    {
     "name": "stdout",
     "output_type": "stream",
     "text": [
      "enter file namef1.txt\n",
      "copied\n"
     ]
    }
   ],
   "source": [
    "f=input(\"enter file name\")\n",
    "cnt=1\n",
    "with open(f,\"r\") as file:\n",
    "    with open(\"f2.txt\",\"w\") as filew:\n",
    "        while True:\n",
    "            text=file.readline()\n",
    "            if len(text):\n",
    "                text1=str(cnt)+\".\"+text\n",
    "                filew.write(text1)\n",
    "                cnt=cnt+1\n",
    "            else:\n",
    "                break\n",
    "                \n",
    "print(\"copied\")\n",
    "    "
   ]
  },
  {
   "cell_type": "code",
   "execution_count": 5,
   "id": "f8127f36",
   "metadata": {},
   "outputs": [
    {
     "name": "stdout",
     "output_type": "stream",
     "text": [
      "1.which of the following is datatype in python ?\n",
      "\n",
      "1.string 2.char\n",
      "\n",
      "enter your answer = string\n",
      "answer is correct\n",
      "q2\n",
      "2.name function to print data ?\n",
      "1.display 2.print\n",
      "enter your answer = print\n",
      "answer is correct\n"
     ]
    }
   ],
   "source": [
    "with open(\"que.txt\",\"r\") as file:\n",
    "    with open (\"ans.txt\",\"r\") as filew:\n",
    "        print(file.readline())\n",
    "        text1=filew.readline()\n",
    "        print(text1)\n",
    "        sp1=text1.split()\n",
    "        ans1=input(\"enter your answer = \")\n",
    "        if ans1.lower() in sp1[0]:\n",
    "            print(\"answer is correct\")\n",
    "        else :\n",
    "            print(\"ans is wrong\")\n",
    "        print(\"q2\")\n",
    "        print(file.readline())\n",
    "        text2=filew.readline()\n",
    "        print(text2)\n",
    "        sp2=text2.split()\n",
    "        ans2=input(\"enter your answer = \")\n",
    "        if ans2.lower() in sp2[1]:\n",
    "             print(\"answer is correct\")\n",
    "        else :\n",
    "            print(\"ans is wrong\")\n",
    "        "
   ]
  },
  {
   "cell_type": "code",
   "execution_count": 2,
   "id": "2ab63dba",
   "metadata": {},
   "outputs": [
    {
     "name": "stdout",
     "output_type": "stream",
     "text": [
      "1.which of the following is datatype in python ?\n",
      "\n",
      "1.string 2.char\n",
      "\n",
      "enter your answer = string\n",
      "['1', 'string']\n",
      "answer is correct\n",
      "enter 1 to continue or 2 to discontinue = 2\n"
     ]
    }
   ],
   "source": [
    "with open(\"que.txt\",\"r\") as file:\n",
    "    with open (\"ans.txt\",\"r\") as filew:\n",
    "        while True:\n",
    "            print(file.readline())\n",
    "            text1=file.readline()\n",
    "            print(text1)\n",
    "            ans=(input(\"enter your answer = \"))\n",
    "            sq=filew.readline()\n",
    "            a=sq.split()\n",
    "            print(a)\n",
    "            if ans.lower()==a[1]:\n",
    "                print(\"answer is correct\")\n",
    "            else :\n",
    "                print(\"ans is wrong\")\n",
    "            s=int(input(\"enter 1 to continue or 2 to discontinue = \"))\n",
    "            if s==2:\n",
    "                  break\n",
    "       "
   ]
  },
  {
   "cell_type": "code",
   "execution_count": null,
   "id": "45c91621",
   "metadata": {},
   "outputs": [],
   "source": []
  },
  {
   "cell_type": "code",
   "execution_count": null,
   "id": "6939a96a",
   "metadata": {},
   "outputs": [],
   "source": []
  }
 ],
 "metadata": {
  "kernelspec": {
   "display_name": "Python 3 (ipykernel)",
   "language": "python",
   "name": "python3"
  },
  "language_info": {
   "codemirror_mode": {
    "name": "ipython",
    "version": 3
   },
   "file_extension": ".py",
   "mimetype": "text/x-python",
   "name": "python",
   "nbconvert_exporter": "python",
   "pygments_lexer": "ipython3",
   "version": "3.9.7"
  }
 },
 "nbformat": 4,
 "nbformat_minor": 5
}
