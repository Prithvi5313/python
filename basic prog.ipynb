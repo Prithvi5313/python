{
 "cells": [
  {
   "cell_type": "code",
   "execution_count": 1,
   "id": "e5c66dd7",
   "metadata": {},
   "outputs": [
    {
     "name": "stdout",
     "output_type": "stream",
     "text": [
      "enter a number10\n",
      "enter a second number5\n",
      "sum 15\n",
      "difference= 5\n"
     ]
    }
   ],
   "source": [
    "n1=int(input(\"enter a number\"))\n",
    "n2=int(input(\"enter a second number\"))\n",
    "sum=n1+n2\n",
    "diff=n1-n2\n",
    "print(\"sum\",sum)\n",
    "print(\"difference=\",diff)"
   ]
  },
  {
   "cell_type": "code",
   "execution_count": null,
   "id": "0690a1a5",
   "metadata": {},
   "outputs": [],
   "source": []
  }
 ],
 "metadata": {
  "kernelspec": {
   "display_name": "Python 3 (ipykernel)",
   "language": "python",
   "name": "python3"
  },
  "language_info": {
   "codemirror_mode": {
    "name": "ipython",
    "version": 3
   },
   "file_extension": ".py",
   "mimetype": "text/x-python",
   "name": "python",
   "nbconvert_exporter": "python",
   "pygments_lexer": "ipython3",
   "version": "3.9.7"
  }
 },
 "nbformat": 4,
 "nbformat_minor": 5
}
