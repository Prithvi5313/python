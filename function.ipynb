{
 "cells": [
  {
   "cell_type": "code",
   "execution_count": null,
   "id": "c7a31378",
   "metadata": {},
   "outputs": [],
   "source": [
    "def area(r):\n",
    "    a=3.14*r*r\n",
    "    print(\"area of circle =\",a )\n",
    "r=int(input(\"enter radius \"))\n",
    "area(r)"
   ]
  },
  {
   "cell_type": "code",
   "execution_count": 2,
   "id": "b6aa3b70",
   "metadata": {},
   "outputs": [
    {
     "name": "stdout",
     "output_type": "stream",
     "text": [
      "enter principal 1000\n",
      "enter rate 4.5\n",
      "enter time5\n",
      "principle =  1000 \n",
      " rate =  4.5 \n",
      " time =  5 \n",
      " simple intrest= 225.0\n"
     ]
    }
   ],
   "source": [
    "def display(p,r,t,ans):\n",
    "    print(\"principle = \",p,\"\\n rate = \",r,\"\\n time = \",t,\"\\n simple intrest=\",ans)\n",
    "def si(a,b,c):\n",
    "    ans=(a*b*c)/100\n",
    "    display(p,r,t,ans)\n",
    "p=int(input(\"enter principal \"))\n",
    "r=float(input(\"enter rate \"))\n",
    "t=int(input(\"enter time\"))\n",
    "si(p,r,t)\n",
    "\n",
    "\n"
   ]
  },
  {
   "cell_type": "code",
   "execution_count": 7,
   "id": "b330da72",
   "metadata": {},
   "outputs": [
    {
     "name": "stdout",
     "output_type": "stream",
     "text": [
      "enter number 4\n",
      "square =  16\n"
     ]
    }
   ],
   "source": [
    "def square(n):\n",
    "    ans=n**2\n",
    "    print(\"square = \",ans)\n",
    "n=int(input(\"enter number \"))\n",
    "square(n)"
   ]
  },
  {
   "cell_type": "code",
   "execution_count": 4,
   "id": "b65dbfd9",
   "metadata": {},
   "outputs": [
    {
     "name": "stdout",
     "output_type": "stream",
     "text": [
      "cube of  10 = 1000\n"
     ]
    }
   ],
   "source": [
    "def cube(x):\n",
    "    return(x*x*x)\n",
    "num=10\n",
    "result=cube(num)\n",
    "print(\"cube of \",num,\"=\",result)"
   ]
  },
  {
   "cell_type": "code",
   "execution_count": 6,
   "id": "e88361dc",
   "metadata": {},
   "outputs": [
    {
     "name": "stdout",
     "output_type": "stream",
     "text": [
      "enter a number10\n",
      "enter a number20\n",
      "sum =  30\n"
     ]
    }
   ],
   "source": [
    "def add(n1,n2):\n",
    "    ans=n1+n2\n",
    "    return ans\n",
    "n1=int(input(\"enter a number\"))\n",
    "n2=int(input(\"enter a number\"))\n",
    "print(\"sum = \",add(n1,n2))\n",
    "\n"
   ]
  },
  {
   "cell_type": "code",
   "execution_count": 7,
   "id": "65423ef8",
   "metadata": {},
   "outputs": [
    {
     "name": "stdout",
     "output_type": "stream",
     "text": [
      "enter radius4\n",
      "area =  50.24\n",
      "circumference =  25.12\n"
     ]
    }
   ],
   "source": [
    "def circle(r):\n",
    "    area=3.14*(r**2)\n",
    "    circumference=2*3.14*r\n",
    "    return(area,circumference)\n",
    "r=int(input(\"enter radius\"))\n",
    "a,c=circle(r)\n",
    "print(\"area = \",a)\n",
    "print(\"circumference = \",c)"
   ]
  },
  {
   "cell_type": "code",
   "execution_count": 9,
   "id": "678437e3",
   "metadata": {},
   "outputs": [
    {
     "name": "stdout",
     "output_type": "stream",
     "text": [
      "enter principle amount =1000\n",
      "enter rate =3\n",
      "enter time =2\n",
      "si  60.0\n"
     ]
    }
   ],
   "source": [
    "def si(p,r,t):\n",
    "    si=(p*r*t)/100\n",
    "    return si\n",
    "p=int(input(\"enter principle amount =\"))\n",
    "r=int(input(\"enter rate =\"))\n",
    "t=int(input(\"enter time =\"))\n",
    "print(\"si \",si(p,r,t))"
   ]
  },
  {
   "cell_type": "code",
   "execution_count": 10,
   "id": "f242efb1",
   "metadata": {},
   "outputs": [
    {
     "name": "stdout",
     "output_type": "stream",
     "text": [
      "enter number =15\n",
      "enter number =20\n",
      "n1 = 20\n",
      "n2 = 15\n"
     ]
    }
   ],
   "source": [
    "def swap(n1,n2):\n",
    "    n1,n2=n2,n1\n",
    "    return n1,n2\n",
    "n1=int(input(\"enter number n1 =\"))\n",
    "n2=int(input(\"enter number n2 =\"))\n",
    "a,b=swap(n1,n2)\n",
    "print(\"n1 =\",a)\n",
    "print(\"n2 =\",b)"
   ]
  },
  {
   "cell_type": "code",
   "execution_count": 12,
   "id": "877b6005",
   "metadata": {},
   "outputs": [
    {
     "name": "stdout",
     "output_type": "stream",
     "text": [
      "enter number n1 =20\n",
      "enter number n2 =10\n",
      " equality between numbers is : n1>n2\n"
     ]
    }
   ],
   "source": [
    "#equality\n",
    "def equal(n1,n2):\n",
    "    if n1==n2:\n",
    "        ans=\"n1=n2\"\n",
    "    elif n1<n2:\n",
    "        ans=\"n1<n2\"\n",
    "    else :\n",
    "        ans=\"n1>n2\"\n",
    "    return ans\n",
    "\n",
    "n1=int(input(\"enter number n1 =\"))\n",
    "n2=int(input(\"enter number n2 =\"))\n",
    "print(\" equality between numbers is :\",equal(n1,n2))\n"
   ]
  },
  {
   "cell_type": "code",
   "execution_count": 29,
   "id": "829c353c",
   "metadata": {},
   "outputs": [
    {
     "name": "stdout",
     "output_type": "stream",
     "text": [
      "enter number =4\n",
      "factorial of a number is = 24\n"
     ]
    }
   ],
   "source": [
    "def factorial(n):\n",
    "    if n==0 and n==1:\n",
    "        ans=\"1\"\n",
    "        \n",
    "    else:\n",
    "        for x in range(n-1,0,-1):\n",
    "            n=n*x\n",
    "        ans=n\n",
    "    return ans\n",
    "n=int(input(\"enter number =\"))\n",
    "print(\"factorial of a number is =\",factorial(n))\n"
   ]
  },
  {
   "cell_type": "code",
   "execution_count": 3,
   "id": "54aebe8c",
   "metadata": {},
   "outputs": [
    {
     "name": "stdout",
     "output_type": "stream",
     "text": [
      "principal = 1000\n",
      "rate=  2.4\n",
      "time = 4\n",
      "si = 96.0\n"
     ]
    }
   ],
   "source": [
    "def SI(int_p,float_r,int_t):\n",
    "    print(\"principal =\",int_p)\n",
    "    print(\"rate= \",float_r)\n",
    "    print(\"time =\",int_t)\n",
    "    print(\"si =\",(int_p*float_r*int_t)/100)\n",
    "SI(int_p=1000,float_r=2.4,int_t=4)"
   ]
  },
  {
   "cell_type": "code",
   "execution_count": 11,
   "id": "9cfd0f92",
   "metadata": {},
   "outputs": [
    {
     "name": "stdout",
     "output_type": "stream",
     "text": [
      "archit  likes playing  volleyball cricket\n",
      "volleyball\n",
      "cricket\n",
      "kala  likes playing \n",
      "gayatri  likes playing \n"
     ]
    }
   ],
   "source": [
    "def func(name,*fav_sport):\n",
    "    print(name,\" likes playing \",*fav_sport)\n",
    "    for x in fav_sport:\n",
    "        \n",
    "        print(x)\n",
    "func(\"archit\",\"volleyball\",\"cricket\")\n",
    "func(\"kala\")\n",
    "func(\"gayatri\")        "
   ]
  },
  {
   "cell_type": "code",
   "execution_count": 6,
   "id": "a8bcfe80",
   "metadata": {},
   "outputs": [
    {
     "name": "stdout",
     "output_type": "stream",
     "text": [
      "name = archit\n",
      "course = btech\n",
      "name = prithvi\n",
      "course = BE\n"
     ]
    }
   ],
   "source": [
    "def display(name,course=\"btech\"):\n",
    "    print(\"name =\",name)\n",
    "    print(\"course =\",course)\n",
    "display(\"archit\")\n",
    "display(\"prithvi\",course=\"BE\")"
   ]
  },
  {
   "cell_type": "code",
   "execution_count": 15,
   "id": "b31ef57d",
   "metadata": {},
   "outputs": [
    {
     "name": "stdout",
     "output_type": "stream",
     "text": [
      "enter a number =33\n",
      "cube of a =  35937\n"
     ]
    }
   ],
   "source": [
    "c=lambda a:a*a*a\n",
    "a=int(input(\"enter a number =\"))\n",
    "print(\"cube of a = \",c(a))\n"
   ]
  },
  {
   "cell_type": "code",
   "execution_count": 14,
   "id": "e05d6d84",
   "metadata": {},
   "outputs": [
    {
     "name": "stdout",
     "output_type": "stream",
     "text": [
      "sum =  55\n"
     ]
    }
   ],
   "source": [
    "c=lambda :sum(range(1,11))\n",
    "print(\"sum = \",c())"
   ]
  },
  {
   "cell_type": "code",
   "execution_count": 16,
   "id": "00b74068",
   "metadata": {},
   "outputs": [
    {
     "name": "stdout",
     "output_type": "stream",
     "text": [
      "8\n",
      "9\n"
     ]
    }
   ],
   "source": [
    "def func(f,n):\n",
    "    print(f(n))\n",
    "twice=lambda x:x*2\n",
    "thrice=lambda x:x*3\n",
    "func(twice,4)\n",
    "func(thrice,3)"
   ]
  },
  {
   "cell_type": "code",
   "execution_count": 6,
   "id": "17546402",
   "metadata": {},
   "outputs": [
    {
     "name": "stdout",
     "output_type": "stream",
     "text": [
      "enter your first name = archit\n",
      "enter your last name = samnerkar\n",
      "name of person is : archit   samnerkar\n"
     ]
    }
   ],
   "source": [
    "#3\n",
    "def display():\n",
    "    fname=input(\"enter your first name = \")\n",
    "    lname=input(\"enter your last name = \")\n",
    "    return fname,lname\n",
    "a,b=display()\n",
    "print(\"name of person is :\",a,\" \",b)"
   ]
  },
  {
   "cell_type": "code",
   "execution_count": 4,
   "id": "bbcb441a",
   "metadata": {},
   "outputs": [
    {
     "name": "stdout",
     "output_type": "stream",
     "text": [
      "enter number of hours5\n",
      "enter number of minutes50\n",
      "time in minutes = 350\n"
     ]
    }
   ],
   "source": [
    "#4\n",
    "t1=lambda h:h*60\n",
    "h=int(input(\"enter number of hours = \"))\n",
    "m=int(input(\"enter number of minutes = \"))\n",
    "t2=t1(h)+m\n",
    "print(\"time in minutes =\",t2)"
   ]
  },
  {
   "cell_type": "code",
   "execution_count": 6,
   "id": "b3b77c52",
   "metadata": {},
   "outputs": [
    {
     "name": "stdout",
     "output_type": "stream",
     "text": [
      "enter lenght of cube = 2\n",
      "volume of cube =  8\n"
     ]
    }
   ],
   "source": [
    "#5\n",
    "v=lambda l:l**3\n",
    "l=int(input(\"enter lenght of cube = \"))\n",
    "print(\"volume of cube = \",v(l))"
   ]
  },
  {
   "cell_type": "code",
   "execution_count": 14,
   "id": "fabed856",
   "metadata": {},
   "outputs": [
    {
     "name": "stdout",
     "output_type": "stream",
     "text": [
      "volume of cuboid =  100.0\n"
     ]
    }
   ],
   "source": [
    "#6\n",
    "def cuboid(l=10,w=2.5,h=4):\n",
    "    print(\"volume of cuboid = \",l*w*h)\n",
    "cuboid()"
   ]
  },
  {
   "cell_type": "code",
   "execution_count": 19,
   "id": "5e38de61",
   "metadata": {},
   "outputs": [
    {
     "name": "stdout",
     "output_type": "stream",
     "text": [
      "the books are = math chem phy python\n"
     ]
    }
   ],
   "source": [
    "#7\n",
    "def display(*books):\n",
    "    print(\"the books are =\",*books)\n",
    "display(\"math\",\"chem\",\"phy\",\"python\")"
   ]
  },
  {
   "cell_type": "code",
   "execution_count": 9,
   "id": "fd90d2bd",
   "metadata": {},
   "outputs": [
    {
     "name": "stdout",
     "output_type": "stream",
     "text": [
      "*************\n",
      "   WELCOME\n",
      "#############\n"
     ]
    }
   ],
   "source": [
    "#8\n",
    "def d1(a=\"*\",b=\"WELCOME\",c=\"#\"):\n",
    "    print(a*13)\n",
    "    print(\"  \",b)\n",
    "    print(c*13)\n",
    "d1()"
   ]
  },
  {
   "cell_type": "code",
   "execution_count": 6,
   "id": "45c2f3a2",
   "metadata": {},
   "outputs": [
    {
     "name": "stdout",
     "output_type": "stream",
     "text": [
      "enter a number 71\n",
      "number is prime\n"
     ]
    }
   ],
   "source": [
    "#10\n",
    "def prime(n):\n",
    "\n",
    "    for i in range(2,n):\n",
    "        r=n%i\n",
    "        if(r==0):\n",
    "            print(\"number not prime\")\n",
    "            break\n",
    "    else:\n",
    "        if(n-1==i):\n",
    "            print(\"number is prime\")\n",
    "        \n",
    "            \n",
    "n=int(input(\"enter a number \")) \n",
    "prime(n)\n",
    "              "
   ]
  },
  {
   "cell_type": "code",
   "execution_count": 11,
   "id": "48af7215",
   "metadata": {},
   "outputs": [
    {
     "name": "stdout",
     "output_type": "stream",
     "text": [
      "enter number n1=25\n",
      "enter number n2=5\n",
      "5 is the gcd of  25 and 5\n"
     ]
    }
   ],
   "source": [
    "#11\n",
    "def gcd(n1,n2):\n",
    "    if n1>n2:\n",
    "        x=n2\n",
    "    else:\n",
    "        x=n1\n",
    "    for x in range(x,0,-1):\n",
    "        if(n1%x==0 and n2%x==0):\n",
    "            print(x,\"is the gcd of \",n1,\"and\",n2)\n",
    "            break\n",
    "            \n",
    "n1=int(input(\"enter number n1=\"))\n",
    "n2=int(input(\"enter number n2=\"))\n",
    "gcd(n1,n2)\n"
   ]
  },
  {
   "cell_type": "code",
   "execution_count": 2,
   "id": "9682b0d6",
   "metadata": {},
   "outputs": [
    {
     "name": "stdout",
     "output_type": "stream",
     "text": [
      "0\n",
      "1\n",
      "1\n",
      "2\n",
      "3\n",
      "5\n",
      "8\n"
     ]
    }
   ],
   "source": [
    "#12\n",
    "n=0\n",
    "f=0\n",
    "temp=1\n",
    "while(n<13):\n",
    "    print(f)\n",
    "    f=temp+n\n",
    "    temp=n\n",
    "    n=f\n",
    "    "
   ]
  },
  {
   "cell_type": "code",
   "execution_count": 5,
   "id": "614006af",
   "metadata": {},
   "outputs": [
    {
     "name": "stdout",
     "output_type": "stream",
     "text": [
      "enter a word = Prit% Viraj\n",
      "number of capital letters = 2\n",
      "number of small letters =  7\n",
      "number of spaces =  2\n"
     ]
    }
   ],
   "source": [
    "def count(s):\n",
    "    i,j,v=0,0,0\n",
    "    for x in s:\n",
    "        if x>='A' and x<='Z':\n",
    "            i=i+1\n",
    "        elif x>='a' and x<='z':\n",
    "            j=j+1\n",
    "        else:\n",
    "            v=v+1\n",
    "    \n",
    "    return i,j,v\n",
    "\n",
    "s=input(\"enter a word = \")\n",
    "a,b,c=count(s)\n",
    "print(\"number of capital letters =\",a)\n",
    "print(\"number of small letters = \",b)\n",
    "print(\"number of spaces = \",c)"
   ]
  },
  {
   "cell_type": "code",
   "execution_count": 2,
   "id": "03feb252",
   "metadata": {},
   "outputs": [
    {
     "name": "stdout",
     "output_type": "stream",
     "text": [
      "100\n",
      "10\n"
     ]
    }
   ],
   "source": [
    "def func():\n",
    "    global var\n",
    "    print(var)\n",
    "    var=10\n",
    "    print(var)\n",
    "var=100\n",
    "func()"
   ]
  },
  {
   "cell_type": "code",
   "execution_count": 2,
   "id": "82959956",
   "metadata": {},
   "outputs": [
    {
     "name": "stdout",
     "output_type": "stream",
     "text": [
      "enter a number = 6\n",
      "factorial of  6 =  720\n"
     ]
    }
   ],
   "source": [
    "def fact(n):\n",
    "    if(n==1 or n==0):\n",
    "        return 1\n",
    "    else :\n",
    "        return n*fact(n-1)\n",
    "n=int(input(\"enter a number = \"))\n",
    "print(\"factorial of \",n,\"= \",fact(n))"
   ]
  },
  {
   "cell_type": "code",
   "execution_count": 3,
   "id": "cfc3ac99",
   "metadata": {},
   "outputs": [
    {
     "name": "stdout",
     "output_type": "stream",
     "text": [
      "inside func,total = 30\n",
      "30\n"
     ]
    }
   ],
   "source": [
    "def sum(n1,n2):\n",
    "    total=n1+n2\n",
    "    print(\"inside func,total =\",total)\n",
    "    return total\n",
    "total=sum(10,20)\n",
    "print(total)\n",
    "    "
   ]
  },
  {
   "cell_type": "code",
   "execution_count": 5,
   "id": "11860576",
   "metadata": {},
   "outputs": [
    {
     "name": "stdout",
     "output_type": "stream",
     "text": [
      "welcome\n",
      "hello \n"
     ]
    }
   ],
   "source": [
    "def display(str):\n",
    "    \"hello \"\n",
    "    print(str)\n",
    "    return\n",
    "display(str=\"welcome\")\n",
    "print(display.__doc__)"
   ]
  },
  {
   "cell_type": "code",
   "execution_count": 1,
   "id": "de78757b",
   "metadata": {},
   "outputs": [
    {
     "name": "stdout",
     "output_type": "stream",
     "text": [
      "enter a number =2\n",
      "enter power =3\n",
      "raise to = 8\n"
     ]
    }
   ],
   "source": [
    "def raiseto(x,y):\n",
    "    if(y==0):\n",
    "        return 1\n",
    "    else:\n",
    "        return x*raiseto(x,y-1)\n",
    "        \n",
    "x=int(input(\"enter a number =\"))\n",
    "y=int(input(\"enter power =\"))\n",
    "print(\"raise to =\",raiseto(x,y))"
   ]
  },
  {
   "cell_type": "code",
   "execution_count": null,
   "id": "f3777147",
   "metadata": {},
   "outputs": [],
   "source": [
    "def gcd(a,b):\n",
    "    rem=a%b\n",
    "    if rem==0:\n",
    "        return b\n",
    "    else:\n",
    "        return gcd(b,rem)\n",
    "a=int(input(\"enter a number =\"))\n",
    "b=int(input(\"enter a number =\"))\n",
    "print(gcd(a,b))    \n"
   ]
  },
  {
   "cell_type": "code",
   "execution_count": 12,
   "id": "e6eefa32",
   "metadata": {},
   "outputs": [
    {
     "name": "stdout",
     "output_type": "stream",
     "text": [
      "['prithviraj', 'is', 'name', 'my', 'hi']\n"
     ]
    }
   ],
   "source": [
    "str=\"hi my name is prithviraj\"\n",
    "str2=str.split(\" \")\n",
    "count=0\n",
    "strrev=str2[::-1]\n",
    "print(strrev)\n",
    "\n",
    "\n",
    "    \n",
    "    \n"
   ]
  },
  {
   "cell_type": "code",
   "execution_count": null,
   "id": "d0d429ad-5349-403e-b991-ee5dbedadca5",
   "metadata": {},
   "outputs": [],
   "source": []
  }
 ],
 "metadata": {
  "kernelspec": {
   "display_name": "Python 3 (ipykernel)",
   "language": "python",
   "name": "python3"
  },
  "language_info": {
   "codemirror_mode": {
    "name": "ipython",
    "version": 3
   },
   "file_extension": ".py",
   "mimetype": "text/x-python",
   "name": "python",
   "nbconvert_exporter": "python",
   "pygments_lexer": "ipython3",
   "version": "3.12.2"
  }
 },
 "nbformat": 4,
 "nbformat_minor": 5
}
