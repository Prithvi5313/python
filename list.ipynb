{
 "cells": [
  {
   "cell_type": "code",
   "execution_count": 7,
   "id": "e64f5a5e",
   "metadata": {},
   "outputs": [
    {
     "name": "stdout",
     "output_type": "stream",
     "text": [
      "[1, 2, 3, 4, 5, 6, 7]\n",
      "[1, 2, 3, 4, 100, 5, 6, 7]\n",
      "1\n",
      "2\n",
      "[1, 2, 3, 4, 5, 6, 7]\n",
      "[1, 2, 3, 4, 5, 6, 7, 5]\n",
      "2\n",
      "3\n",
      "4\n",
      "5\n",
      "6\n",
      "7\n",
      "5\n",
      "6\n"
     ]
    }
   ],
   "source": [
    "list =[1,2,3,4,5,6]\n",
    "list.append(7)\n",
    "print(list)\n",
    "list.insert(4,100)\n",
    "print(list)\n",
    "print(list.count(5))\n",
    "print(list.index(3))\n",
    "list.pop(4)\n",
    "print(list)\n",
    "list.append(5)\n",
    "print(list)\n",
    "x=5\n",
    "for i in list:\n",
    "    if i==x:\n",
    "        a=list.index(i)\n",
    "        print(a)"
   ]
  },
  {
   "cell_type": "code",
   "execution_count": 14,
   "id": "8c7db311",
   "metadata": {},
   "outputs": [
    {
     "name": "stdout",
     "output_type": "stream",
     "text": [
      "[0, 1, 8, 27, 64]\n"
     ]
    }
   ],
   "source": [
    "cube=[]\n",
    "for i in range (0,5):\n",
    "    cube.append(i**3)\n",
    "print(cube)"
   ]
  },
  {
   "cell_type": "code",
   "execution_count": 18,
   "id": "970c9926",
   "metadata": {},
   "outputs": [
    {
     "name": "stdout",
     "output_type": "stream",
     "text": [
      "[1, 2, 3, 4, 5, 6, 7, 8, 9, 10, 11, 12, 13, 14, 15, 16, 17, 18, 19, 20]\n",
      "[2, 4, 6, 8, 10, 12, 14, 16, 18, 20]\n"
     ]
    }
   ],
   "source": [
    "list=[]\n",
    "for i in range (1,21):\n",
    "    list.append(i)\n",
    "print(list)\n",
    "list1=[]\n",
    "for x in list:\n",
    "    if x%2==0 or x%4==0:\n",
    "        list1.append(x)\n",
    "print(list1)"
   ]
  },
  {
   "cell_type": "code",
   "execution_count": 6,
   "id": "05a21f80",
   "metadata": {},
   "outputs": [
    {
     "name": "stdout",
     "output_type": "stream",
     "text": [
      "3\n",
      "7\n",
      "count 2\n"
     ]
    }
   ],
   "source": [
    "list=[1,4,5,7,5,6,5,7,8]\n",
    "i=0\n",
    "x=7\n",
    "while i<len(list):\n",
    "    if x==list[i]:\n",
    "        #print(list[i])\n",
    "        print(i)\n",
    "    i+=1\n",
    "print(\"count\",list.count(x))"
   ]
  },
  {
   "cell_type": "code",
   "execution_count": 4,
   "id": "9e81dd3f",
   "metadata": {},
   "outputs": [
    {
     "name": "stdout",
     "output_type": "stream",
     "text": [
      "enter  a country = India\n",
      "yes\n"
     ]
    }
   ],
   "source": [
    "list=[\"brazil\",\"india\",\"china\",\"russia\",\"sri lanka\"]\n",
    "a=input(\"enter  a country = \")\n",
    "b=a.lower()\n",
    "if b in list:\n",
    "    print(\"yes\")\n",
    "else:\n",
    "    print(\"no\")"
   ]
  },
  {
   "cell_type": "code",
   "execution_count": 10,
   "id": "ef907b6d",
   "metadata": {},
   "outputs": [
    {
     "name": "stdout",
     "output_type": "stream",
     "text": [
      "[1, 3, 5, 7, 9, 11, 13, 15, 17, 19]\n"
     ]
    }
   ],
   "source": [
    "l1=[i for i in range (1,21,2)]\n",
    "print (l1)\n"
   ]
  },
  {
   "cell_type": "code",
   "execution_count": 1,
   "id": "13e06598",
   "metadata": {},
   "outputs": [
    {
     "name": "stdout",
     "output_type": "stream",
     "text": [
      "[4, 8, 12, 16, 20]\n"
     ]
    }
   ],
   "source": [
    "#filter\n",
    "def check(x):\n",
    "    if (x%2==0 or x%4==0):\n",
    "        return 1\n",
    "evens=list(filter(check,range(2,22)))\n",
    "print(evens)"
   ]
  },
  {
   "cell_type": "code",
   "execution_count": 2,
   "id": "82547172",
   "metadata": {},
   "outputs": [
    {
     "name": "stdout",
     "output_type": "stream",
     "text": [
      "sum of values in list =\n",
      "15\n"
     ]
    }
   ],
   "source": [
    "#reduce\n",
    "import functools\n",
    "def add(x,y):\n",
    "    return x+y\n",
    "num_list=[1,2,3,4,5]\n",
    "print(\"sum of values in list =\")\n",
    "print(functools.reduce(add,num_list))"
   ]
  },
  {
   "cell_type": "code",
   "execution_count": 4,
   "id": "341af446",
   "metadata": {},
   "outputs": [
    {
     "name": "stdout",
     "output_type": "stream",
     "text": [
      "1  is at index : 0\n",
      "2  is at index : 1\n",
      "3  is at index : 2\n",
      "4  is at index : 3\n",
      "5  is at index : 4\n"
     ]
    }
   ],
   "source": [
    "#enumerator\n",
    "num_list=[1,2,3,4,5]\n",
    "for index,i in enumerate(num_list):\n",
    "    print(i,\" is at index :\",index)\n"
   ]
  },
  {
   "cell_type": "code",
   "execution_count": 6,
   "id": "58e37858",
   "metadata": {},
   "outputs": [
    {
     "name": "stdout",
     "output_type": "stream",
     "text": [
      "element at index 0 is 1\n",
      "element at index 1 is 2\n",
      "element at index 2 is 3\n",
      "element at index 3 is 4\n",
      "element at index 4 is 5\n"
     ]
    }
   ],
   "source": [
    "num_list=[1,2,3,4,5]\n",
    "it=iter(num_list)\n",
    "for i in range (len(num_list)):\n",
    "    print(\"element at index\",i,\"is\" ,next(it))"
   ]
  },
  {
   "cell_type": "code",
   "execution_count": 7,
   "id": "4df024b6",
   "metadata": {},
   "outputs": [
    {
     "name": "stdout",
     "output_type": "stream",
     "text": [
      "original list is : [1, 2, 3, 4, 5, 6, 7]\n",
      "modified list is : [3, 4, 5, 6, 7, 8, 9]\n"
     ]
    }
   ],
   "source": [
    "#map\n",
    "def add_2(x):\n",
    "    x=x+2\n",
    "    return x\n",
    "num_list = [1,2,3,4,5,6,7]\n",
    "print(\"original list is :\",num_list)\n",
    "new_list= list(map(add_2,num_list))\n",
    "print(\"modified list is :\",new_list)"
   ]
  },
  {
   "cell_type": "code",
   "execution_count": 10,
   "id": "9a7673b2",
   "metadata": {},
   "outputs": [
    {
     "name": "stdout",
     "output_type": "stream",
     "text": [
      "[2, 3, 3]\n"
     ]
    }
   ],
   "source": [
    "#filter\n",
    "l=[-1,2,3,-8,-4,3]\n",
    "def check(x):\n",
    "    if x>0:\n",
    "        return x\n",
    "positive=list(filter(check,l))\n",
    "print(positive)\n",
    "\n",
    "    "
   ]
  },
  {
   "cell_type": "code",
   "execution_count": 11,
   "id": "7564e9f1",
   "metadata": {},
   "outputs": [
    {
     "name": "stdout",
     "output_type": "stream",
     "text": [
      "[1, 4, 9, 16, 25, 36, 49, 64, 81, 100]\n"
     ]
    }
   ],
   "source": [
    "#map\n",
    "def square(x):\n",
    "    return x**2\n",
    "list1=list(map(square,range(1,11)))\n",
    "print(list1)\n",
    "\n",
    "    "
   ]
  },
  {
   "cell_type": "code",
   "execution_count": 14,
   "id": "3f6320c2",
   "metadata": {},
   "outputs": [
    {
     "name": "stdout",
     "output_type": "stream",
     "text": [
      "max value =\n",
      "99\n"
     ]
    }
   ],
   "source": [
    "#reduce\n",
    "import functools\n",
    "l=[1,4,88,99,3,33]\n",
    "def max(x,y):\n",
    "    if x>y:\n",
    "        return x\n",
    "    else:\n",
    "        return y\n",
    "print(\"max value =\")\n",
    "print(functools.reduce(max,l))\n"
   ]
  },
  {
   "cell_type": "code",
   "execution_count": 15,
   "id": "d71b51e1",
   "metadata": {},
   "outputs": [
    {
     "name": "stdout",
     "output_type": "stream",
     "text": [
      "[3, 6, 3, 9, 12]\n"
     ]
    }
   ],
   "source": [
    "#filter\n",
    "l=[3,6,3,9,12,5,8]\n",
    "def div(x):\n",
    "    if x%3==0 or x%6==0:\n",
    "        return x\n",
    "list=list(filter(div,l))\n",
    "print(list)"
   ]
  },
  {
   "cell_type": "code",
   "execution_count": null,
   "id": "4de6d0cf",
   "metadata": {},
   "outputs": [],
   "source": [
    "\n",
    "def marks():\n",
    "    "
   ]
  }
 ],
 "metadata": {
  "kernelspec": {
   "display_name": "Python 3 (ipykernel)",
   "language": "python",
   "name": "python3"
  },
  "language_info": {
   "codemirror_mode": {
    "name": "ipython",
    "version": 3
   },
   "file_extension": ".py",
   "mimetype": "text/x-python",
   "name": "python",
   "nbconvert_exporter": "python",
   "pygments_lexer": "ipython3",
   "version": "3.9.7"
  }
 },
 "nbformat": 4,
 "nbformat_minor": 5
}
